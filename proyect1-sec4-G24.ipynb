{
 "cells": [
  {
   "cell_type": "markdown",
   "metadata": {},
   "source": [
    "## Integrantes\n",
    "\n",
    "\n",
    "\n",
    "- **Estudiante 1:** Juan David Duarte Yara - 202215070\n",
    "- **Estudiante 2:** Luisa Gabriela Hernández Pérez - 202114093\n",
    "- **Estudiante 3:** Juan Sebastian Sanchez - 202121498\n",
    "- Todos los estudiantes aportaron en las partes generales del notebook y en las diapositivas de coclusiones.\n",
    "\n"
   ]
  },
  {
   "cell_type": "markdown",
   "metadata": {},
   "source": [
    "## 0. Carga de los datos. "
   ]
  },
  {
   "cell_type": "markdown",
   "metadata": {},
   "source": [
    "### 0.1. Importación de librerías \n",
    "\n",
    "En las siguientes líneas de código se importan las librerías y herramientas necesarias para desarrollar el caso de uso."
   ]
  },
  {
   "cell_type": "code",
   "execution_count": 1,
   "metadata": {},
   "outputs": [
    {
     "name": "stderr",
     "output_type": "stream",
     "text": [
      "c:\\Users\\57300\\anaconda3\\lib\\site-packages\\pandas\\core\\computation\\expressions.py:21: UserWarning: Pandas requires version '2.8.4' or newer of 'numexpr' (version '2.8.3' currently installed).\n",
      "  from pandas.core.computation.check import NUMEXPR_INSTALLED\n",
      "c:\\Users\\57300\\anaconda3\\lib\\site-packages\\pandas\\core\\arrays\\masked.py:60: UserWarning: Pandas requires version '1.3.6' or newer of 'bottleneck' (version '1.3.5' currently installed).\n",
      "  from pandas.core import (\n"
     ]
    }
   ],
   "source": [
    "import pandas as pd\n",
    "import matplotlib.pyplot as plt\n",
    "import seaborn as sns\n",
    "import numpy as np\n",
    "from sklearn.preprocessing import LabelEncoder\n",
    "from sklearn.model_selection import train_test_split\n",
    "from sklearn.linear_model import LinearRegression\n",
    "from sklearn.metrics import mean_absolute_error, mean_squared_error, r2_score\n",
    "from sklearn.pipeline import Pipeline\n",
    "from sklearn.compose import ColumnTransformer\n",
    "from sklearn.preprocessing import StandardScaler, OneHotEncoder\n",
    "from sklearn.compose import ColumnTransformer\n",
    "from joblib import dump, load\n",
    "import scipy.stats as stats\n",
    "from sklearn.preprocessing import PolynomialFeatures"
   ]
  },
  {
   "cell_type": "markdown",
   "metadata": {},
   "source": [
    "### 0.2. Lectura de archivos\n",
    "A través de la librería **pandas** podemos realizar la carga de datos desde diferentes fuentes de información, en este caso se realizará la carga de un archivo plano csv (archivo separado por comas)."
   ]
  },
  {
   "cell_type": "code",
   "execution_count": 3,
   "metadata": {},
   "outputs": [],
   "source": [
    "# Se cargan los datos. \n",
    "datatrain=pd.read_csv('fake_news_spanish.csv', sep=';', encoding = 'utf-8')\n",
    "datatest = pd.read_csv('fake_news_test.csv', sep=';', encoding = 'utf-8')"
   ]
  },
  {
   "cell_type": "markdown",
   "metadata": {},
   "source": [
    "Podemos ver que hay 57,063 filas y 5 columnas de atributos en el conjunto de entrenamiento"
   ]
  },
  {
   "cell_type": "code",
   "execution_count": 4,
   "metadata": {},
   "outputs": [
    {
     "data": {
      "text/plain": [
       "(57063, 5)"
      ]
     },
     "execution_count": 4,
     "metadata": {},
     "output_type": "execute_result"
    }
   ],
   "source": [
    "datatrain.shape"
   ]
  },
  {
   "cell_type": "markdown",
   "metadata": {},
   "source": [
    "Podemos ver que hay 1000 filas y 4 columnas de atributos en el conjunto de prueba"
   ]
  },
  {
   "cell_type": "code",
   "execution_count": 5,
   "metadata": {},
   "outputs": [
    {
     "data": {
      "text/plain": [
       "(1000, 4)"
      ]
     },
     "execution_count": 5,
     "metadata": {},
     "output_type": "execute_result"
    }
   ],
   "source": [
    "datatest.shape"
   ]
  },
  {
   "cell_type": "markdown",
   "metadata": {},
   "source": [
    "Veamos un pequeño sample de los datos"
   ]
  },
  {
   "cell_type": "code",
   "execution_count": 8,
   "metadata": {},
   "outputs": [
    {
     "data": {
      "text/html": [
       "<div>\n",
       "<style scoped>\n",
       "    .dataframe tbody tr th:only-of-type {\n",
       "        vertical-align: middle;\n",
       "    }\n",
       "\n",
       "    .dataframe tbody tr th {\n",
       "        vertical-align: top;\n",
       "    }\n",
       "\n",
       "    .dataframe thead th {\n",
       "        text-align: right;\n",
       "    }\n",
       "</style>\n",
       "<table border=\"1\" class=\"dataframe\">\n",
       "  <thead>\n",
       "    <tr style=\"text-align: right;\">\n",
       "      <th></th>\n",
       "      <th>ID</th>\n",
       "      <th>Label</th>\n",
       "      <th>Titulo</th>\n",
       "      <th>Descripcion</th>\n",
       "      <th>Fecha</th>\n",
       "    </tr>\n",
       "  </thead>\n",
       "  <tbody>\n",
       "    <tr>\n",
       "      <th>28574</th>\n",
       "      <td>ID</td>\n",
       "      <td>1</td>\n",
       "      <td>Sánchez anuncia un fondo no reembolsable de 16...</td>\n",
       "      <td>El presidente también ha dado a conocer una te...</td>\n",
       "      <td>02/05/2020</td>\n",
       "    </tr>\n",
       "    <tr>\n",
       "      <th>10871</th>\n",
       "      <td>ID</td>\n",
       "      <td>1</td>\n",
       "      <td>La Fiscalía pide 18 años para el francotirador...</td>\n",
       "      <td>Tal como informó en exclusiva Público en novie...</td>\n",
       "      <td>27/02/2020</td>\n",
       "    </tr>\n",
       "    <tr>\n",
       "      <th>32158</th>\n",
       "      <td>ID</td>\n",
       "      <td>1</td>\n",
       "      <td>El Parlament retira el acta de diputada a Borr...</td>\n",
       "      <td>El Tribunal Supremo ha desestimado el recurso ...</td>\n",
       "      <td>01/06/2023</td>\n",
       "    </tr>\n",
       "    <tr>\n",
       "      <th>3999</th>\n",
       "      <td>ID</td>\n",
       "      <td>1</td>\n",
       "      <td>Arrecian las puñaladas en el PP horas antes de...</td>\n",
       "      <td>La diputada Celia Villalobos, ligada a la cand...</td>\n",
       "      <td>20/07/2018</td>\n",
       "    </tr>\n",
       "    <tr>\n",
       "      <th>37853</th>\n",
       "      <td>ID</td>\n",
       "      <td>1</td>\n",
       "      <td>Junqueras afirma en una carta desde la cárcel ...</td>\n",
       "      <td>Me siento muy orgulloso de la madurez y respon...</td>\n",
       "      <td>28/07/2019</td>\n",
       "    </tr>\n",
       "    <tr>\n",
       "      <th>32363</th>\n",
       "      <td>ID</td>\n",
       "      <td>0</td>\n",
       "      <td>Josu Erkoreka: 'Si para subir el SMI hay que a...</td>\n",
       "      <td>Este Gobierno respeta al jefe del Estado, como...</td>\n",
       "      <td>05/02/2020</td>\n",
       "    </tr>\n",
       "    <tr>\n",
       "      <th>42473</th>\n",
       "      <td>ID</td>\n",
       "      <td>1</td>\n",
       "      <td>El Gobierno tacha de 'insensatez' la visita de...</td>\n",
       "      <td>Isabel Celaá, la ministra portavoz, afirma que...</td>\n",
       "      <td>22/02/2019</td>\n",
       "    </tr>\n",
       "    <tr>\n",
       "      <th>10224</th>\n",
       "      <td>ID</td>\n",
       "      <td>1</td>\n",
       "      <td>Aparadoras del calzado viajan a Bruselas para ...</td>\n",
       "      <td>La Asociación de Aparadoras y Trabajadoras del...</td>\n",
       "      <td>26/09/2022</td>\n",
       "    </tr>\n",
       "    <tr>\n",
       "      <th>51675</th>\n",
       "      <td>ID</td>\n",
       "      <td>1</td>\n",
       "      <td>Vox entra en el Gobierno de Badajoz con PP y C...</td>\n",
       "      <td>El único edil de la ultraderecha, Alejandro Vé...</td>\n",
       "      <td>04/07/2019</td>\n",
       "    </tr>\n",
       "    <tr>\n",
       "      <th>56100</th>\n",
       "      <td>ID</td>\n",
       "      <td>0</td>\n",
       "      <td>EAJ-PNV da por zanjada la polémica del envío d...</td>\n",
       "      <td>La formación morada continuará defendiendo su ...</td>\n",
       "      <td>11/03/2022</td>\n",
       "    </tr>\n",
       "  </tbody>\n",
       "</table>\n",
       "</div>"
      ],
      "text/plain": [
       "       ID  Label                                             Titulo  \\\n",
       "28574  ID      1  Sánchez anuncia un fondo no reembolsable de 16...   \n",
       "10871  ID      1  La Fiscalía pide 18 años para el francotirador...   \n",
       "32158  ID      1  El Parlament retira el acta de diputada a Borr...   \n",
       "3999   ID      1  Arrecian las puñaladas en el PP horas antes de...   \n",
       "37853  ID      1  Junqueras afirma en una carta desde la cárcel ...   \n",
       "32363  ID      0  Josu Erkoreka: 'Si para subir el SMI hay que a...   \n",
       "42473  ID      1  El Gobierno tacha de 'insensatez' la visita de...   \n",
       "10224  ID      1  Aparadoras del calzado viajan a Bruselas para ...   \n",
       "51675  ID      1  Vox entra en el Gobierno de Badajoz con PP y C...   \n",
       "56100  ID      0  EAJ-PNV da por zanjada la polémica del envío d...   \n",
       "\n",
       "                                             Descripcion       Fecha  \n",
       "28574  El presidente también ha dado a conocer una te...  02/05/2020  \n",
       "10871  Tal como informó en exclusiva Público en novie...  27/02/2020  \n",
       "32158  El Tribunal Supremo ha desestimado el recurso ...  01/06/2023  \n",
       "3999   La diputada Celia Villalobos, ligada a la cand...  20/07/2018  \n",
       "37853  Me siento muy orgulloso de la madurez y respon...  28/07/2019  \n",
       "32363  Este Gobierno respeta al jefe del Estado, como...  05/02/2020  \n",
       "42473  Isabel Celaá, la ministra portavoz, afirma que...  22/02/2019  \n",
       "10224  La Asociación de Aparadoras y Trabajadoras del...  26/09/2022  \n",
       "51675  El único edil de la ultraderecha, Alejandro Vé...  04/07/2019  \n",
       "56100  La formación morada continuará defendiendo su ...  11/03/2022  "
      ]
     },
     "execution_count": 8,
     "metadata": {},
     "output_type": "execute_result"
    }
   ],
   "source": [
    "datatrain.sample(10)"
   ]
  },
  {
   "cell_type": "markdown",
   "metadata": {},
   "source": [
    "Revisemos que el tipo de dato sea el esperado"
   ]
  },
  {
   "cell_type": "code",
   "execution_count": 9,
   "metadata": {},
   "outputs": [
    {
     "data": {
      "text/plain": [
       "ID             object\n",
       "Label           int64\n",
       "Titulo         object\n",
       "Descripcion    object\n",
       "Fecha          object\n",
       "dtype: object"
      ]
     },
     "execution_count": 9,
     "metadata": {},
     "output_type": "execute_result"
    }
   ],
   "source": [
    "datatrain.dtypes"
   ]
  },
  {
   "cell_type": "markdown",
   "metadata": {},
   "source": [
    "# 2. Entendimiento de los datos"
   ]
  },
  {
   "cell_type": "markdown",
   "metadata": {},
   "source": [
    "## 2.1 Analisis descriptivo"
   ]
  }
 ],
 "metadata": {
  "kernelspec": {
   "display_name": "base",
   "language": "python",
   "name": "python3"
  },
  "language_info": {
   "codemirror_mode": {
    "name": "ipython",
    "version": 3
   },
   "file_extension": ".py",
   "mimetype": "text/x-python",
   "name": "python",
   "nbconvert_exporter": "python",
   "pygments_lexer": "ipython3",
   "version": "3.9.13"
  }
 },
 "nbformat": 4,
 "nbformat_minor": 2
}
