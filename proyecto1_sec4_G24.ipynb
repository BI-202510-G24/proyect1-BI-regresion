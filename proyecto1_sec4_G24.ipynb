{
 "cells": [
  {
   "cell_type": "markdown",
   "metadata": {},
   "source": [
    "## Integrantes\n",
    "\n",
    "- **Estudiante 1:** Juan David Duarte Yara - 202215070\n",
    "- **Estudiante 2:** Luisa Gabriela Hernández Pérez - 202114093\n",
    "- **Estudiante 3:** Juan Sebastian Sanchez - 202121498\n",
    "- Todos los estudiantes aportaron en las partes generales del notebook y en las diapositivas de coclusiones.\n",
    "\n"
   ]
  },
  {
   "cell_type": "markdown",
   "metadata": {},
   "source": [
    "## 0. Carga de los datos. "
   ]
  },
  {
   "cell_type": "markdown",
   "metadata": {},
   "source": [
    "### 0.1. Importación de librerías \n",
    "\n",
    "En las siguientes líneas de código se importan las librerías y herramientas necesarias para desarrollar el caso de uso."
   ]
  },
  {
   "cell_type": "code",
   "execution_count": 159,
   "metadata": {},
   "outputs": [],
   "source": [
    "# Importaciones de bibliotecas\n",
    "import numpy as np\n",
    "import pandas as pd\n",
    "import matplotlib.pyplot as plt\n",
    "import seaborn as sns\n",
    "import scipy.stats as stats\n",
    "import sys\n",
    "import re\n",
    "import string\n",
    "import unicodedata\n",
    "\n",
    "# Importaciones de joblib\n",
    "from joblib import dump, load\n",
    "\n",
    "# Importaciones de sklearn\n",
    "from sklearn.base import BaseEstimator, RegressorMixin, ClassifierMixin\n",
    "from sklearn.decomposition import PCA\n",
    "from sklearn.model_selection import train_test_split\n",
    "from sklearn.pipeline import Pipeline, FeatureUnion\n",
    "from sklearn.compose import ColumnTransformer\n",
    "from sklearn.preprocessing import StandardScaler, FunctionTransformer\n",
    "from sklearn.metrics import mean_absolute_error, mean_squared_error, r2_score, classification_report, confusion_matrix\n",
    "from sklearn.feature_extraction.text import TfidfVectorizer, CountVectorizer, HashingVectorizer\n",
    "from sklearn.svm import SVC\n",
    "from sklearn.ensemble import BaggingClassifier, RandomForestClassifier, AdaBoostClassifier, GradientBoostingClassifier\n",
    "from sklearn.naive_bayes import BernoulliNB\n",
    "from sklearn.impute import SimpleImputer\n",
    "from sklearn import tree\n",
    "from sklearn.metrics import confusion_matrix, classification_report, precision_score, recall_score, f1_score, accuracy_score\n",
    "from sklearn.metrics import ConfusionMatrixDisplay\n",
    "\n",
    "# Clasificacion\n",
    "from sklearn.tree import DecisionTreeClassifier\n",
    "from sklearn.neighbors import KNeighborsClassifier\n",
    "from imblearn.over_sampling import SMOTE\n",
    "from sklearn.datasets import make_classification\n",
    "\n",
    "# Importaciones de statsmodels\n",
    "import statsmodels.api as sm\n",
    "from statsmodels.stats.outliers_influence import variance_inflation_factor\n",
    "from statsmodels.stats.diagnostic import het_breuschpagan, het_white\n",
    "\n",
    "# Importaciones de nltk\n",
    "import nltk\n",
    "from nltk import word_tokenize, sent_tokenize\n",
    "from nltk.corpus import stopwords\n",
    "from nltk.stem import LancasterStemmer, WordNetLemmatizer, PorterStemmer, SnowballStemmer\n",
    "\n",
    "# Instalación de paquetes adicionales\n",
    "import contractions\n",
    "\n",
    "# Para búsqueda de hiperparámetros\n",
    "from sklearn.model_selection import GridSearchCV\n",
    "\n",
    "# Para la validación cruzada\n",
    "from sklearn.model_selection import KFold"
   ]
  },
  {
   "cell_type": "markdown",
   "metadata": {},
   "source": [
    "### 0.2. Lectura de archivos\n",
    "A través de la librería **pandas** podemos realizar la carga de datos desde diferentes fuentes de información, en este caso se realizará la carga de un archivo plano csv (archivo separado por comas)."
   ]
  },
  {
   "cell_type": "code",
   "execution_count": 160,
   "metadata": {},
   "outputs": [],
   "source": [
    "# Se cargan los datos. \n",
    "datatrain=pd.read_csv('fake_news_spanish.csv', sep=';', encoding = 'utf-8')\n",
    "datatest = pd.read_csv('fake_news_test.csv', sep=';', encoding = 'utf-8')"
   ]
  },
  {
   "cell_type": "markdown",
   "metadata": {},
   "source": [
    "Podemos ver que hay 57,063 filas y 5 columnas de atributos en el conjunto de entrenamiento"
   ]
  },
  {
   "cell_type": "code",
   "execution_count": 161,
   "metadata": {},
   "outputs": [
    {
     "data": {
      "text/plain": [
       "(57063, 5)"
      ]
     },
     "execution_count": 161,
     "metadata": {},
     "output_type": "execute_result"
    }
   ],
   "source": [
    "datatrain.shape"
   ]
  },
  {
   "cell_type": "markdown",
   "metadata": {},
   "source": [
    "Podemos ver que hay 1000 filas y 4 columnas de atributos en el conjunto de prueba"
   ]
  },
  {
   "cell_type": "code",
   "execution_count": 162,
   "metadata": {},
   "outputs": [
    {
     "data": {
      "text/plain": [
       "(1000, 4)"
      ]
     },
     "execution_count": 162,
     "metadata": {},
     "output_type": "execute_result"
    }
   ],
   "source": [
    "datatest.shape"
   ]
  },
  {
   "cell_type": "markdown",
   "metadata": {},
   "source": [
    "Veamos un pequeño sample de los datos"
   ]
  },
  {
   "cell_type": "code",
   "execution_count": 163,
   "metadata": {},
   "outputs": [
    {
     "data": {
      "text/html": [
       "<div>\n",
       "<style scoped>\n",
       "    .dataframe tbody tr th:only-of-type {\n",
       "        vertical-align: middle;\n",
       "    }\n",
       "\n",
       "    .dataframe tbody tr th {\n",
       "        vertical-align: top;\n",
       "    }\n",
       "\n",
       "    .dataframe thead th {\n",
       "        text-align: right;\n",
       "    }\n",
       "</style>\n",
       "<table border=\"1\" class=\"dataframe\">\n",
       "  <thead>\n",
       "    <tr style=\"text-align: right;\">\n",
       "      <th></th>\n",
       "      <th>ID</th>\n",
       "      <th>Label</th>\n",
       "      <th>Titulo</th>\n",
       "      <th>Descripcion</th>\n",
       "      <th>Fecha</th>\n",
       "    </tr>\n",
       "  </thead>\n",
       "  <tbody>\n",
       "    <tr>\n",
       "      <th>37379</th>\n",
       "      <td>ID</td>\n",
       "      <td>1</td>\n",
       "      <td>Couso: 'El neofascismo sólo está logrando enfr...</td>\n",
       "      <td>El exeurodiputado de IU quiere volver a Brusel...</td>\n",
       "      <td>18/05/2019</td>\n",
       "    </tr>\n",
       "    <tr>\n",
       "      <th>39889</th>\n",
       "      <td>ID</td>\n",
       "      <td>1</td>\n",
       "      <td>Anticapitalistas rechazan un gobierno de coali...</td>\n",
       "      <td>Los modelos verticales han contribuido al vaci...</td>\n",
       "      <td>31/05/2019</td>\n",
       "    </tr>\n",
       "    <tr>\n",
       "      <th>52199</th>\n",
       "      <td>ID</td>\n",
       "      <td>0</td>\n",
       "      <td>Feijóo presume de la estabilidad en su Gobiern...</td>\n",
       "      <td>En plena tormenta política por las mociones de...</td>\n",
       "      <td>11/03/2021</td>\n",
       "    </tr>\n",
       "    <tr>\n",
       "      <th>45003</th>\n",
       "      <td>ID</td>\n",
       "      <td>1</td>\n",
       "      <td>Miguel Urbán: 'El mayor riesgo de atentado en ...</td>\n",
       "      <td>Podríamos decir que desde el atentado en Norue...</td>\n",
       "      <td>11/12/2022</td>\n",
       "    </tr>\n",
       "    <tr>\n",
       "      <th>11431</th>\n",
       "      <td>ID</td>\n",
       "      <td>0</td>\n",
       "      <td>¿Es delito hacer chistes o bromas sobre Alfons...</td>\n",
       "      <td>El Tribunal Supremo confirmó el pasado viernes...</td>\n",
       "      <td>06/02/2018</td>\n",
       "    </tr>\n",
       "    <tr>\n",
       "      <th>39274</th>\n",
       "      <td>ID</td>\n",
       "      <td>1</td>\n",
       "      <td>Aguado admite que los menús de Ayuso no son sa...</td>\n",
       "      <td>A nadie se le escapa que de continuar más días...</td>\n",
       "      <td>06/05/2020</td>\n",
       "    </tr>\n",
       "    <tr>\n",
       "      <th>8336</th>\n",
       "      <td>ID</td>\n",
       "      <td>1</td>\n",
       "      <td>Programas sin números ni cuentas: los 'brindis...</td>\n",
       "      <td>Los partidos vuelven a hacer una precampaña en...</td>\n",
       "      <td>29/10/2019</td>\n",
       "    </tr>\n",
       "    <tr>\n",
       "      <th>32240</th>\n",
       "      <td>ID</td>\n",
       "      <td>1</td>\n",
       "      <td>Más de 3.500 jueces y unos 1.300 fiscales secu...</td>\n",
       "      <td>El 65% de los jueces y el 52% de los fiscales ...</td>\n",
       "      <td>21/05/2018</td>\n",
       "    </tr>\n",
       "    <tr>\n",
       "      <th>2600</th>\n",
       "      <td>ID</td>\n",
       "      <td>1</td>\n",
       "      <td>Ione Belarra toma las riendas de Podemos mient...</td>\n",
       "      <td>La renovación en el liderazgo de la formación ...</td>\n",
       "      <td>13/06/2021</td>\n",
       "    </tr>\n",
       "    <tr>\n",
       "      <th>45302</th>\n",
       "      <td>ID</td>\n",
       "      <td>0</td>\n",
       "      <td>El Iniciativa vers per Catalunya andaluz dice ...</td>\n",
       "      <td>El vicesecretario del Iniciativa vers per Cata...</td>\n",
       "      <td>22/09/2020</td>\n",
       "    </tr>\n",
       "  </tbody>\n",
       "</table>\n",
       "</div>"
      ],
      "text/plain": [
       "       ID  Label                                             Titulo  \\\n",
       "37379  ID      1  Couso: 'El neofascismo sólo está logrando enfr...   \n",
       "39889  ID      1  Anticapitalistas rechazan un gobierno de coali...   \n",
       "52199  ID      0  Feijóo presume de la estabilidad en su Gobiern...   \n",
       "45003  ID      1  Miguel Urbán: 'El mayor riesgo de atentado en ...   \n",
       "11431  ID      0  ¿Es delito hacer chistes o bromas sobre Alfons...   \n",
       "39274  ID      1  Aguado admite que los menús de Ayuso no son sa...   \n",
       "8336   ID      1  Programas sin números ni cuentas: los 'brindis...   \n",
       "32240  ID      1  Más de 3.500 jueces y unos 1.300 fiscales secu...   \n",
       "2600   ID      1  Ione Belarra toma las riendas de Podemos mient...   \n",
       "45302  ID      0  El Iniciativa vers per Catalunya andaluz dice ...   \n",
       "\n",
       "                                             Descripcion       Fecha  \n",
       "37379  El exeurodiputado de IU quiere volver a Brusel...  18/05/2019  \n",
       "39889  Los modelos verticales han contribuido al vaci...  31/05/2019  \n",
       "52199  En plena tormenta política por las mociones de...  11/03/2021  \n",
       "45003  Podríamos decir que desde el atentado en Norue...  11/12/2022  \n",
       "11431  El Tribunal Supremo confirmó el pasado viernes...  06/02/2018  \n",
       "39274  A nadie se le escapa que de continuar más días...  06/05/2020  \n",
       "8336   Los partidos vuelven a hacer una precampaña en...  29/10/2019  \n",
       "32240  El 65% de los jueces y el 52% de los fiscales ...  21/05/2018  \n",
       "2600   La renovación en el liderazgo de la formación ...  13/06/2021  \n",
       "45302  El vicesecretario del Iniciativa vers per Cata...  22/09/2020  "
      ]
     },
     "execution_count": 163,
     "metadata": {},
     "output_type": "execute_result"
    }
   ],
   "source": [
    "datatrain.sample(10)"
   ]
  },
  {
   "cell_type": "markdown",
   "metadata": {},
   "source": [
    "Revisemos que el tipo de dato sea el esperado"
   ]
  },
  {
   "cell_type": "code",
   "execution_count": 164,
   "metadata": {},
   "outputs": [
    {
     "data": {
      "text/plain": [
       "ID             object\n",
       "Label           int64\n",
       "Titulo         object\n",
       "Descripcion    object\n",
       "Fecha          object\n",
       "dtype: object"
      ]
     },
     "execution_count": 164,
     "metadata": {},
     "output_type": "execute_result"
    }
   ],
   "source": [
    "datatrain.dtypes"
   ]
  },
  {
   "cell_type": "markdown",
   "metadata": {},
   "source": [
    "# 2. Entendimiento de los datos"
   ]
  },
  {
   "cell_type": "markdown",
   "metadata": {},
   "source": [
    "## 2.1 Analisis descriptivo"
   ]
  },
  {
   "cell_type": "markdown",
   "metadata": {},
   "source": [
    "Podemos ver que hay textos repetidos"
   ]
  },
  {
   "cell_type": "code",
   "execution_count": 165,
   "metadata": {},
   "outputs": [
    {
     "data": {
      "text/plain": [
       "count                                                 57063\n",
       "unique                                                49638\n",
       "top       La Fundación En Acción ha participado con Públ...\n",
       "freq                                                      7\n",
       "Name: Descripcion, dtype: object"
      ]
     },
     "execution_count": 165,
     "metadata": {},
     "output_type": "execute_result"
    }
   ],
   "source": [
    "datatrain[\"Descripcion\"].describe()\n"
   ]
  },
  {
   "cell_type": "markdown",
   "metadata": {},
   "source": [
    "Es útil saber que tan largos son los textos"
   ]
  },
  {
   "cell_type": "code",
   "execution_count": 166,
   "metadata": {},
   "outputs": [
    {
     "data": {
      "text/plain": [
       "count    57063.000000\n",
       "mean       243.519724\n",
       "std        274.479568\n",
       "min         33.000000\n",
       "25%        171.000000\n",
       "50%        221.000000\n",
       "75%        267.000000\n",
       "max      14153.000000\n",
       "Name: Descripcion, dtype: float64"
      ]
     },
     "execution_count": 166,
     "metadata": {},
     "output_type": "execute_result"
    }
   ],
   "source": [
    "datatrain[\"Descripcion\"].apply(len).describe()"
   ]
  },
  {
   "cell_type": "markdown",
   "metadata": {},
   "source": [
    "Los textos tienen una longitud entre 33 y 14,153 caracteres, con una media de 243 caracteres. "
   ]
  },
  {
   "cell_type": "markdown",
   "metadata": {},
   "source": [
    "Queremos ver ahora la columna \"label\""
   ]
  },
  {
   "cell_type": "code",
   "execution_count": 167,
   "metadata": {},
   "outputs": [
    {
     "data": {
      "text/plain": [
       "count    57063.000000\n",
       "mean         0.581077\n",
       "std          0.493387\n",
       "min          0.000000\n",
       "25%          0.000000\n",
       "50%          1.000000\n",
       "75%          1.000000\n",
       "max          1.000000\n",
       "Name: Label, dtype: float64"
      ]
     },
     "execution_count": 167,
     "metadata": {},
     "output_type": "execute_result"
    }
   ],
   "source": [
    "datatrain[\"Label\"].describe()"
   ]
  },
  {
   "cell_type": "markdown",
   "metadata": {},
   "source": [
    "Podemos ver que efectivamente la columna \"Label\" tiene valores entre 0 y 1."
   ]
  },
  {
   "cell_type": "markdown",
   "metadata": {},
   "source": [
    "Nos gustaría saber la proporción que hay entre noticias falsas y las que no"
   ]
  },
  {
   "cell_type": "code",
   "execution_count": 168,
   "metadata": {},
   "outputs": [
    {
     "data": {
      "text/plain": [
       "Label\n",
       "1    33158\n",
       "0    23905\n",
       "Name: count, dtype: int64"
      ]
     },
     "execution_count": 168,
     "metadata": {},
     "output_type": "execute_result"
    }
   ],
   "source": [
    "datatrain[\"Label\"].value_counts()"
   ]
  },
  {
   "cell_type": "markdown",
   "metadata": {},
   "source": [
    "Podemos ver que los datos están ligeramente desbalanceados"
   ]
  },
  {
   "cell_type": "markdown",
   "metadata": {},
   "source": [
    "## 2.2 Calidad de datos"
   ]
  },
  {
   "cell_type": "code",
   "execution_count": 169,
   "metadata": {},
   "outputs": [],
   "source": [
    "# Es recomendable que todos los pasos de limpieza y preparación se realicen sobre otro archivo.\n",
    "data_t = datatrain.copy()"
   ]
  },
  {
   "cell_type": "markdown",
   "metadata": {},
   "source": [
    "### Unicidad"
   ]
  },
  {
   "cell_type": "markdown",
   "metadata": {},
   "source": [
    "Revisemos los duplicados por título "
   ]
  },
  {
   "cell_type": "code",
   "execution_count": 170,
   "metadata": {},
   "outputs": [
    {
     "data": {
      "text/html": [
       "<div>\n",
       "<style scoped>\n",
       "    .dataframe tbody tr th:only-of-type {\n",
       "        vertical-align: middle;\n",
       "    }\n",
       "\n",
       "    .dataframe tbody tr th {\n",
       "        vertical-align: top;\n",
       "    }\n",
       "\n",
       "    .dataframe thead th {\n",
       "        text-align: right;\n",
       "    }\n",
       "</style>\n",
       "<table border=\"1\" class=\"dataframe\">\n",
       "  <thead>\n",
       "    <tr style=\"text-align: right;\">\n",
       "      <th></th>\n",
       "      <th>ID</th>\n",
       "      <th>Label</th>\n",
       "      <th>Titulo</th>\n",
       "      <th>Descripcion</th>\n",
       "      <th>Fecha</th>\n",
       "    </tr>\n",
       "  </thead>\n",
       "  <tbody>\n",
       "    <tr>\n",
       "      <th>53500</th>\n",
       "      <td>ID</td>\n",
       "      <td>1</td>\n",
       "      <td>\"La quimioterapia mata a la gente y no al cánc...</td>\n",
       "      <td>Señor Presidente recibiremos sus tropas con lo...</td>\n",
       "      <td>01/11/2018</td>\n",
       "    </tr>\n",
       "    <tr>\n",
       "      <th>27107</th>\n",
       "      <td>ID</td>\n",
       "      <td>1</td>\n",
       "      <td>\"La quimioterapia mata a la gente y no al cánc...</td>\n",
       "      <td>Estamos en la semana decisiva. Los expertos a...</td>\n",
       "      <td>10/08/2021</td>\n",
       "    </tr>\n",
       "    <tr>\n",
       "      <th>44905</th>\n",
       "      <td>ID</td>\n",
       "      <td>1</td>\n",
       "      <td>#DespuésDeAplaudir queda mucho por hacer y rei...</td>\n",
       "      <td>Acto a favor de la Sanidad pública y universal...</td>\n",
       "      <td>28/05/2020</td>\n",
       "    </tr>\n",
       "    <tr>\n",
       "      <th>41264</th>\n",
       "      <td>ID</td>\n",
       "      <td>0</td>\n",
       "      <td>#DespuésDeAplaudir queda mucho por hacer y rei...</td>\n",
       "      <td>Acto a favor de la Sanidad pública y universal...</td>\n",
       "      <td>28/05/2020</td>\n",
       "    </tr>\n",
       "    <tr>\n",
       "      <th>9017</th>\n",
       "      <td>ID</td>\n",
       "      <td>1</td>\n",
       "      <td>'11 millones de euros por teléfono y por Whats...</td>\n",
       "      <td>Los comisionistas del escándalo de las masacri...</td>\n",
       "      <td>26/04/2022</td>\n",
       "    </tr>\n",
       "    <tr>\n",
       "      <th>25449</th>\n",
       "      <td>ID</td>\n",
       "      <td>0</td>\n",
       "      <td>'11 millones de euros por teléfono y por Whats...</td>\n",
       "      <td>Los comisionistas del escándalo de las masacri...</td>\n",
       "      <td>26/04/2022</td>\n",
       "    </tr>\n",
       "    <tr>\n",
       "      <th>42708</th>\n",
       "      <td>ID</td>\n",
       "      <td>1</td>\n",
       "      <td>'A este hay que matarlo'... Las perlas de las ...</td>\n",
       "      <td>El comisario relata el robo de información al ...</td>\n",
       "      <td>30/09/2020</td>\n",
       "    </tr>\n",
       "    <tr>\n",
       "      <th>41717</th>\n",
       "      <td>ID</td>\n",
       "      <td>0</td>\n",
       "      <td>'A este hay que matarlo'... Las perlas de las ...</td>\n",
       "      <td>El comisario relata el robo de información al ...</td>\n",
       "      <td>30/09/2020</td>\n",
       "    </tr>\n",
       "    <tr>\n",
       "      <th>26334</th>\n",
       "      <td>ID</td>\n",
       "      <td>1</td>\n",
       "      <td>'A mi madre la llevaron al sótano de la reside...</td>\n",
       "      <td>Comienzan a declarar en el juzgado los familia...</td>\n",
       "      <td>22/02/2021</td>\n",
       "    </tr>\n",
       "    <tr>\n",
       "      <th>7823</th>\n",
       "      <td>ID</td>\n",
       "      <td>0</td>\n",
       "      <td>'A mi madre la llevaron al sótano de la reside...</td>\n",
       "      <td>Comienzan a declarar en el juzgado los familia...</td>\n",
       "      <td>22/02/2021</td>\n",
       "    </tr>\n",
       "  </tbody>\n",
       "</table>\n",
       "</div>"
      ],
      "text/plain": [
       "       ID  Label                                             Titulo  \\\n",
       "53500  ID      1  \"La quimioterapia mata a la gente y no al cánc...   \n",
       "27107  ID      1  \"La quimioterapia mata a la gente y no al cánc...   \n",
       "44905  ID      1  #DespuésDeAplaudir queda mucho por hacer y rei...   \n",
       "41264  ID      0  #DespuésDeAplaudir queda mucho por hacer y rei...   \n",
       "9017   ID      1  '11 millones de euros por teléfono y por Whats...   \n",
       "25449  ID      0  '11 millones de euros por teléfono y por Whats...   \n",
       "42708  ID      1  'A este hay que matarlo'... Las perlas de las ...   \n",
       "41717  ID      0  'A este hay que matarlo'... Las perlas de las ...   \n",
       "26334  ID      1  'A mi madre la llevaron al sótano de la reside...   \n",
       "7823   ID      0  'A mi madre la llevaron al sótano de la reside...   \n",
       "\n",
       "                                             Descripcion       Fecha  \n",
       "53500  Señor Presidente recibiremos sus tropas con lo...  01/11/2018  \n",
       "27107   Estamos en la semana decisiva. Los expertos a...  10/08/2021  \n",
       "44905  Acto a favor de la Sanidad pública y universal...  28/05/2020  \n",
       "41264  Acto a favor de la Sanidad pública y universal...  28/05/2020  \n",
       "9017   Los comisionistas del escándalo de las masacri...  26/04/2022  \n",
       "25449  Los comisionistas del escándalo de las masacri...  26/04/2022  \n",
       "42708  El comisario relata el robo de información al ...  30/09/2020  \n",
       "41717  El comisario relata el robo de información al ...  30/09/2020  \n",
       "26334  Comienzan a declarar en el juzgado los familia...  22/02/2021  \n",
       "7823   Comienzan a declarar en el juzgado los familia...  22/02/2021  "
      ]
     },
     "execution_count": 170,
     "metadata": {},
     "output_type": "execute_result"
    }
   ],
   "source": [
    "data_t.loc[datatrain.duplicated(subset= \"Titulo\", keep = False)].sort_values(\"Titulo\").head(10)"
   ]
  },
  {
   "cell_type": "markdown",
   "metadata": {},
   "source": [
    "Revisemos ahora los duplicados por descripción "
   ]
  },
  {
   "cell_type": "code",
   "execution_count": 171,
   "metadata": {},
   "outputs": [
    {
     "data": {
      "text/html": [
       "<div>\n",
       "<style scoped>\n",
       "    .dataframe tbody tr th:only-of-type {\n",
       "        vertical-align: middle;\n",
       "    }\n",
       "\n",
       "    .dataframe tbody tr th {\n",
       "        vertical-align: top;\n",
       "    }\n",
       "\n",
       "    .dataframe thead th {\n",
       "        text-align: right;\n",
       "    }\n",
       "</style>\n",
       "<table border=\"1\" class=\"dataframe\">\n",
       "  <thead>\n",
       "    <tr style=\"text-align: right;\">\n",
       "      <th></th>\n",
       "      <th>ID</th>\n",
       "      <th>Label</th>\n",
       "      <th>Titulo</th>\n",
       "      <th>Descripcion</th>\n",
       "      <th>Fecha</th>\n",
       "    </tr>\n",
       "  </thead>\n",
       "  <tbody>\n",
       "    <tr>\n",
       "      <th>10367</th>\n",
       "      <td>ID</td>\n",
       "      <td>0</td>\n",
       "      <td>Inma Nieto: 'José Manuel Franco me decía hace ...</td>\n",
       "      <td>(Risas) Sí...lo que pasa es que esto viene ya ...</td>\n",
       "      <td>03/01/2023</td>\n",
       "    </tr>\n",
       "    <tr>\n",
       "      <th>51799</th>\n",
       "      <td>ID</td>\n",
       "      <td>1</td>\n",
       "      <td>Edmundo Bal: 'Adrián Vázquez me decía hace poc...</td>\n",
       "      <td>(Risas) Sí...lo que pasa es que esto viene ya ...</td>\n",
       "      <td>03/01/2023</td>\n",
       "    </tr>\n",
       "    <tr>\n",
       "      <th>38903</th>\n",
       "      <td>ID</td>\n",
       "      <td>1</td>\n",
       "      <td>Un manifiesto llama a que Xavier Domènech lide...</td>\n",
       "      <td>134 miembros destacados de la formación catala...</td>\n",
       "      <td>02/03/2018</td>\n",
       "    </tr>\n",
       "    <tr>\n",
       "      <th>31583</th>\n",
       "      <td>ID</td>\n",
       "      <td>0</td>\n",
       "      <td>Un manifiesto llama a que Adriana Lastra lider...</td>\n",
       "      <td>134 miembros destacados de la formación catala...</td>\n",
       "      <td>02/03/2018</td>\n",
       "    </tr>\n",
       "    <tr>\n",
       "      <th>27018</th>\n",
       "      <td>ID</td>\n",
       "      <td>1</td>\n",
       "      <td>¿Rey franquista o padre de la democracia?: luc...</td>\n",
       "      <td>43 años y medio después de jurar los principio...</td>\n",
       "      <td>01/06/2019</td>\n",
       "    </tr>\n",
       "    <tr>\n",
       "      <th>14590</th>\n",
       "      <td>ID</td>\n",
       "      <td>0</td>\n",
       "      <td>¿Rey franquista o padre de la democracia?: luc...</td>\n",
       "      <td>43 años y medio después de jurar los principio...</td>\n",
       "      <td>01/06/2019</td>\n",
       "    </tr>\n",
       "    <tr>\n",
       "      <th>20779</th>\n",
       "      <td>ID</td>\n",
       "      <td>1</td>\n",
       "      <td>Los médicos de Atención Primaria en Madrid se ...</td>\n",
       "      <td>5.000 sanitarios de los Centros de Salud de la...</td>\n",
       "      <td>10/03/2021</td>\n",
       "    </tr>\n",
       "    <tr>\n",
       "      <th>49171</th>\n",
       "      <td>ID</td>\n",
       "      <td>0</td>\n",
       "      <td>Los médicos de Atención Primaria en Madrid se ...</td>\n",
       "      <td>5.000 sanitarios de los Centros de Salud de la...</td>\n",
       "      <td>10/03/2021</td>\n",
       "    </tr>\n",
       "    <tr>\n",
       "      <th>27698</th>\n",
       "      <td>ID</td>\n",
       "      <td>1</td>\n",
       "      <td>Procesados Sito Miñanco y Gonzalo Boye por bla...</td>\n",
       "      <td>A Boye, el abogado de Puigdemont, se le relaci...</td>\n",
       "      <td>18/12/2020</td>\n",
       "    </tr>\n",
       "    <tr>\n",
       "      <th>40787</th>\n",
       "      <td>ID</td>\n",
       "      <td>0</td>\n",
       "      <td>Procesados Sito Miñanco y Feijoo por blanqueo ...</td>\n",
       "      <td>A Boye, el abogado de Puigdemont, se le relaci...</td>\n",
       "      <td>18/12/2020</td>\n",
       "    </tr>\n",
       "  </tbody>\n",
       "</table>\n",
       "</div>"
      ],
      "text/plain": [
       "       ID  Label                                             Titulo  \\\n",
       "10367  ID      0  Inma Nieto: 'José Manuel Franco me decía hace ...   \n",
       "51799  ID      1  Edmundo Bal: 'Adrián Vázquez me decía hace poc...   \n",
       "38903  ID      1  Un manifiesto llama a que Xavier Domènech lide...   \n",
       "31583  ID      0  Un manifiesto llama a que Adriana Lastra lider...   \n",
       "27018  ID      1  ¿Rey franquista o padre de la democracia?: luc...   \n",
       "14590  ID      0  ¿Rey franquista o padre de la democracia?: luc...   \n",
       "20779  ID      1  Los médicos de Atención Primaria en Madrid se ...   \n",
       "49171  ID      0  Los médicos de Atención Primaria en Madrid se ...   \n",
       "27698  ID      1  Procesados Sito Miñanco y Gonzalo Boye por bla...   \n",
       "40787  ID      0  Procesados Sito Miñanco y Feijoo por blanqueo ...   \n",
       "\n",
       "                                             Descripcion       Fecha  \n",
       "10367  (Risas) Sí...lo que pasa es que esto viene ya ...  03/01/2023  \n",
       "51799  (Risas) Sí...lo que pasa es que esto viene ya ...  03/01/2023  \n",
       "38903  134 miembros destacados de la formación catala...  02/03/2018  \n",
       "31583  134 miembros destacados de la formación catala...  02/03/2018  \n",
       "27018  43 años y medio después de jurar los principio...  01/06/2019  \n",
       "14590  43 años y medio después de jurar los principio...  01/06/2019  \n",
       "20779  5.000 sanitarios de los Centros de Salud de la...  10/03/2021  \n",
       "49171  5.000 sanitarios de los Centros de Salud de la...  10/03/2021  \n",
       "27698  A Boye, el abogado de Puigdemont, se le relaci...  18/12/2020  \n",
       "40787  A Boye, el abogado de Puigdemont, se le relaci...  18/12/2020  "
      ]
     },
     "execution_count": 171,
     "metadata": {},
     "output_type": "execute_result"
    }
   ],
   "source": [
    "data_t.loc[datatrain.duplicated(subset= \"Descripcion\", keep = False)].sort_values(\"Descripcion\").head(10)"
   ]
  },
  {
   "cell_type": "code",
   "execution_count": 172,
   "metadata": {},
   "outputs": [
    {
     "data": {
      "text/plain": [
       "875"
      ]
     },
     "execution_count": 172,
     "metadata": {},
     "output_type": "execute_result"
    }
   ],
   "source": [
    "data_t.duplicated(keep=False).sum()"
   ]
  },
  {
   "cell_type": "markdown",
   "metadata": {},
   "source": [
    "Revisando el archivo pudimos notar que realmente los anteriores datos no son duplicados, sino que tienen ligeras diferencias entre su contenido, reafirmando que uno es una fake news y la otra no."
   ]
  },
  {
   "cell_type": "markdown",
   "metadata": {},
   "source": [
    "Ahora revisemos cuando la columna \"Titulo\", \"Descripcción\",\"Fecha\" y \"Label\" son exactamente iguales."
   ]
  },
  {
   "cell_type": "code",
   "execution_count": 173,
   "metadata": {},
   "outputs": [
    {
     "data": {
      "text/html": [
       "<div>\n",
       "<style scoped>\n",
       "    .dataframe tbody tr th:only-of-type {\n",
       "        vertical-align: middle;\n",
       "    }\n",
       "\n",
       "    .dataframe tbody tr th {\n",
       "        vertical-align: top;\n",
       "    }\n",
       "\n",
       "    .dataframe thead th {\n",
       "        text-align: right;\n",
       "    }\n",
       "</style>\n",
       "<table border=\"1\" class=\"dataframe\">\n",
       "  <thead>\n",
       "    <tr style=\"text-align: right;\">\n",
       "      <th></th>\n",
       "      <th>ID</th>\n",
       "      <th>Label</th>\n",
       "      <th>Titulo</th>\n",
       "      <th>Descripcion</th>\n",
       "      <th>Fecha</th>\n",
       "    </tr>\n",
       "  </thead>\n",
       "  <tbody>\n",
       "    <tr>\n",
       "      <th>54191</th>\n",
       "      <td>ID</td>\n",
       "      <td>1</td>\n",
       "      <td>Madrid envía una carta a los directores de los...</td>\n",
       "      <td>A cinco días del 4M, el director general de Ed...</td>\n",
       "      <td>30/04/2021</td>\n",
       "    </tr>\n",
       "    <tr>\n",
       "      <th>54892</th>\n",
       "      <td>ID</td>\n",
       "      <td>1</td>\n",
       "      <td>Madrid envía una carta a los directores de los...</td>\n",
       "      <td>A cinco días del 4M, el director general de Ed...</td>\n",
       "      <td>30/04/2021</td>\n",
       "    </tr>\n",
       "    <tr>\n",
       "      <th>1551</th>\n",
       "      <td>ID</td>\n",
       "      <td>1</td>\n",
       "      <td>El legado del PP en Madrid: desigualdad, anemi...</td>\n",
       "      <td>A lo largo de la campaña se hablará más en cla...</td>\n",
       "      <td>19/04/2021</td>\n",
       "    </tr>\n",
       "    <tr>\n",
       "      <th>8627</th>\n",
       "      <td>ID</td>\n",
       "      <td>1</td>\n",
       "      <td>El legado del PP en Madrid: desigualdad, anemi...</td>\n",
       "      <td>A lo largo de la campaña se hablará más en cla...</td>\n",
       "      <td>19/04/2021</td>\n",
       "    </tr>\n",
       "    <tr>\n",
       "      <th>16683</th>\n",
       "      <td>ID</td>\n",
       "      <td>1</td>\n",
       "      <td>Ayuso recurre a las descalificaciones para def...</td>\n",
       "      <td>A lo largo del debate la dirigente conservador...</td>\n",
       "      <td>21/04/2021</td>\n",
       "    </tr>\n",
       "    <tr>\n",
       "      <th>18999</th>\n",
       "      <td>ID</td>\n",
       "      <td>1</td>\n",
       "      <td>Ayuso recurre a las descalificaciones para def...</td>\n",
       "      <td>A lo largo del debate la dirigente conservador...</td>\n",
       "      <td>21/04/2021</td>\n",
       "    </tr>\n",
       "    <tr>\n",
       "      <th>55074</th>\n",
       "      <td>ID</td>\n",
       "      <td>1</td>\n",
       "      <td>ERC y JxCat se reúnen en la cárcel de Lledoner...</td>\n",
       "      <td>A menos de un mes para agotar el plazo para in...</td>\n",
       "      <td>27/04/2021</td>\n",
       "    </tr>\n",
       "    <tr>\n",
       "      <th>27758</th>\n",
       "      <td>ID</td>\n",
       "      <td>1</td>\n",
       "      <td>ERC y JxCat se reúnen en la cárcel de Lledoner...</td>\n",
       "      <td>A menos de un mes para agotar el plazo para in...</td>\n",
       "      <td>27/04/2021</td>\n",
       "    </tr>\n",
       "    <tr>\n",
       "      <th>36567</th>\n",
       "      <td>ID</td>\n",
       "      <td>1</td>\n",
       "      <td>Otra amenaza de muerte sin una contundente con...</td>\n",
       "      <td>Abascal dice que la carta con amenazas a Igles...</td>\n",
       "      <td>26/04/2021</td>\n",
       "    </tr>\n",
       "    <tr>\n",
       "      <th>29871</th>\n",
       "      <td>ID</td>\n",
       "      <td>1</td>\n",
       "      <td>Otra amenaza de muerte sin una contundente con...</td>\n",
       "      <td>Abascal dice que la carta con amenazas a Igles...</td>\n",
       "      <td>26/04/2021</td>\n",
       "    </tr>\n",
       "  </tbody>\n",
       "</table>\n",
       "</div>"
      ],
      "text/plain": [
       "       ID  Label                                             Titulo  \\\n",
       "54191  ID      1  Madrid envía una carta a los directores de los...   \n",
       "54892  ID      1  Madrid envía una carta a los directores de los...   \n",
       "1551   ID      1  El legado del PP en Madrid: desigualdad, anemi...   \n",
       "8627   ID      1  El legado del PP en Madrid: desigualdad, anemi...   \n",
       "16683  ID      1  Ayuso recurre a las descalificaciones para def...   \n",
       "18999  ID      1  Ayuso recurre a las descalificaciones para def...   \n",
       "55074  ID      1  ERC y JxCat se reúnen en la cárcel de Lledoner...   \n",
       "27758  ID      1  ERC y JxCat se reúnen en la cárcel de Lledoner...   \n",
       "36567  ID      1  Otra amenaza de muerte sin una contundente con...   \n",
       "29871  ID      1  Otra amenaza de muerte sin una contundente con...   \n",
       "\n",
       "                                             Descripcion       Fecha  \n",
       "54191  A cinco días del 4M, el director general de Ed...  30/04/2021  \n",
       "54892  A cinco días del 4M, el director general de Ed...  30/04/2021  \n",
       "1551   A lo largo de la campaña se hablará más en cla...  19/04/2021  \n",
       "8627   A lo largo de la campaña se hablará más en cla...  19/04/2021  \n",
       "16683  A lo largo del debate la dirigente conservador...  21/04/2021  \n",
       "18999  A lo largo del debate la dirigente conservador...  21/04/2021  \n",
       "55074  A menos de un mes para agotar el plazo para in...  27/04/2021  \n",
       "27758  A menos de un mes para agotar el plazo para in...  27/04/2021  \n",
       "36567  Abascal dice que la carta con amenazas a Igles...  26/04/2021  \n",
       "29871  Abascal dice que la carta con amenazas a Igles...  26/04/2021  "
      ]
     },
     "execution_count": 173,
     "metadata": {},
     "output_type": "execute_result"
    }
   ],
   "source": [
    "data_t.loc[datatrain.duplicated(subset= [\"Descripcion\",\"Titulo\"], keep = False)].sort_values(\"Descripcion\").head(10)"
   ]
  },
  {
   "cell_type": "markdown",
   "metadata": {},
   "source": [
    "Todas estas instancias son exactamente iguales, por lo cual, son duplicados. Revisemos cuantos duplicados realmente hay."
   ]
  },
  {
   "cell_type": "code",
   "execution_count": 174,
   "metadata": {},
   "outputs": [
    {
     "data": {
      "text/plain": [
       "875"
      ]
     },
     "execution_count": 174,
     "metadata": {},
     "output_type": "execute_result"
    }
   ],
   "source": [
    "data_t.duplicated(subset=['Titulo', 'Descripcion','Fecha','Label'], keep=False).sum()"
   ]
  },
  {
   "cell_type": "markdown",
   "metadata": {},
   "source": [
    "Borremos los duplicados"
   ]
  },
  {
   "cell_type": "code",
   "execution_count": 175,
   "metadata": {},
   "outputs": [],
   "source": [
    "data_t = data_t.drop_duplicates(subset=['Titulo', 'Descripcion','Fecha','Label'], keep='first')"
   ]
  },
  {
   "cell_type": "markdown",
   "metadata": {},
   "source": [
    "Revisemos si el tamaño de los datos cambió. El cambio debe ser consistente con la cantidad de duplicados eliminados"
   ]
  },
  {
   "cell_type": "code",
   "execution_count": 176,
   "metadata": {},
   "outputs": [
    {
     "data": {
      "text/plain": [
       "(57063, 5)"
      ]
     },
     "execution_count": 176,
     "metadata": {},
     "output_type": "execute_result"
    }
   ],
   "source": [
    "datatrain.shape"
   ]
  },
  {
   "cell_type": "code",
   "execution_count": 177,
   "metadata": {},
   "outputs": [
    {
     "data": {
      "text/plain": [
       "(56618, 5)"
      ]
     },
     "execution_count": 177,
     "metadata": {},
     "output_type": "execute_result"
    }
   ],
   "source": [
    "data_t.shape"
   ]
  },
  {
   "cell_type": "markdown",
   "metadata": {},
   "source": [
    "Revisemos si hay duplicados"
   ]
  },
  {
   "cell_type": "code",
   "execution_count": 178,
   "metadata": {},
   "outputs": [
    {
     "data": {
      "text/plain": [
       "0"
      ]
     },
     "execution_count": 178,
     "metadata": {},
     "output_type": "execute_result"
    }
   ],
   "source": [
    "data_t.duplicated(subset=['Titulo', 'Descripcion','Fecha','Label'], keep=False).sum()"
   ]
  },
  {
   "cell_type": "markdown",
   "metadata": {},
   "source": [
    "### Completitud"
   ]
  },
  {
   "cell_type": "code",
   "execution_count": 179,
   "metadata": {},
   "outputs": [
    {
     "data": {
      "text/plain": [
       "ID              0\n",
       "Label           0\n",
       "Titulo         16\n",
       "Descripcion     0\n",
       "Fecha           0\n",
       "dtype: int64"
      ]
     },
     "execution_count": 179,
     "metadata": {},
     "output_type": "execute_result"
    }
   ],
   "source": [
    "# Se observa que hay ausencias en la columna titulo\n",
    "data_t.isnull().sum()"
   ]
  },
  {
   "cell_type": "code",
   "execution_count": 180,
   "metadata": {},
   "outputs": [],
   "source": [
    "# Como solo son 16 instancias de más de 57,000 podemos borrar estos datos\n",
    "data_t = data_t.dropna(subset=[\"Titulo\"])"
   ]
  },
  {
   "cell_type": "code",
   "execution_count": 181,
   "metadata": {},
   "outputs": [
    {
     "data": {
      "text/plain": [
       "ID             0\n",
       "Label          0\n",
       "Titulo         0\n",
       "Descripcion    0\n",
       "Fecha          0\n",
       "dtype: int64"
      ]
     },
     "execution_count": 181,
     "metadata": {},
     "output_type": "execute_result"
    }
   ],
   "source": [
    "# Se observa que ya no hay ausencias en la columna titulo\n",
    "data_t.isnull().sum()"
   ]
  },
  {
   "cell_type": "markdown",
   "metadata": {},
   "source": [
    "### Validez"
   ]
  },
  {
   "cell_type": "markdown",
   "metadata": {},
   "source": [
    "Podemos confirmar que solo existen los labels de fake news y no fake news."
   ]
  },
  {
   "cell_type": "code",
   "execution_count": 182,
   "metadata": {},
   "outputs": [
    {
     "data": {
      "text/html": [
       "<div>\n",
       "<style scoped>\n",
       "    .dataframe tbody tr th:only-of-type {\n",
       "        vertical-align: middle;\n",
       "    }\n",
       "\n",
       "    .dataframe tbody tr th {\n",
       "        vertical-align: top;\n",
       "    }\n",
       "\n",
       "    .dataframe thead th {\n",
       "        text-align: right;\n",
       "    }\n",
       "</style>\n",
       "<table border=\"1\" class=\"dataframe\">\n",
       "  <thead>\n",
       "    <tr style=\"text-align: right;\">\n",
       "      <th></th>\n",
       "      <th>0</th>\n",
       "    </tr>\n",
       "  </thead>\n",
       "  <tbody>\n",
       "    <tr>\n",
       "      <th>0</th>\n",
       "      <td>1</td>\n",
       "    </tr>\n",
       "    <tr>\n",
       "      <th>1</th>\n",
       "      <td>0</td>\n",
       "    </tr>\n",
       "  </tbody>\n",
       "</table>\n",
       "</div>"
      ],
      "text/plain": [
       "   0\n",
       "0  1\n",
       "1  0"
      ]
     },
     "execution_count": 182,
     "metadata": {},
     "output_type": "execute_result"
    }
   ],
   "source": [
    "pd.DataFrame(data_t[\"Label\"].unique())"
   ]
  },
  {
   "cell_type": "markdown",
   "metadata": {},
   "source": [
    "### Consistencia"
   ]
  },
  {
   "cell_type": "markdown",
   "metadata": {},
   "source": [
    "Revisemos el formato de las fechas"
   ]
  },
  {
   "cell_type": "code",
   "execution_count": 183,
   "metadata": {},
   "outputs": [
    {
     "data": {
      "text/plain": [
       "0"
      ]
     },
     "execution_count": 183,
     "metadata": {},
     "output_type": "execute_result"
    }
   ],
   "source": [
    "data_t[\"Fecha\"].isna().sum()\n"
   ]
  },
  {
   "cell_type": "code",
   "execution_count": 184,
   "metadata": {},
   "outputs": [
    {
     "data": {
      "text/plain": [
       "31332   2020-02-21\n",
       "30972   2023-01-26\n",
       "4530    2020-01-03\n",
       "14927   2020-06-16\n",
       "41641   2021-02-08\n",
       "15398   2018-06-15\n",
       "48385   2023-03-06\n",
       "26423   2022-02-07\n",
       "16827   2020-12-04\n",
       "38115   2018-06-04\n",
       "Name: Nueva_Fecha, dtype: datetime64[ns]"
      ]
     },
     "execution_count": 184,
     "metadata": {},
     "output_type": "execute_result"
    }
   ],
   "source": [
    "data_t['Nueva_Fecha'] = pd.to_datetime(data_t['Fecha'], format=\"%d/%m/%Y\", errors ='coerce')\n",
    "data_t['Nueva_Fecha'].sample(10)"
   ]
  },
  {
   "cell_type": "code",
   "execution_count": 185,
   "metadata": {},
   "outputs": [
    {
     "data": {
      "text/html": [
       "<div>\n",
       "<style scoped>\n",
       "    .dataframe tbody tr th:only-of-type {\n",
       "        vertical-align: middle;\n",
       "    }\n",
       "\n",
       "    .dataframe tbody tr th {\n",
       "        vertical-align: top;\n",
       "    }\n",
       "\n",
       "    .dataframe thead th {\n",
       "        text-align: right;\n",
       "    }\n",
       "</style>\n",
       "<table border=\"1\" class=\"dataframe\">\n",
       "  <thead>\n",
       "    <tr style=\"text-align: right;\">\n",
       "      <th></th>\n",
       "      <th>Fecha</th>\n",
       "      <th>Nueva_Fecha</th>\n",
       "    </tr>\n",
       "  </thead>\n",
       "  <tbody>\n",
       "  </tbody>\n",
       "</table>\n",
       "</div>"
      ],
      "text/plain": [
       "Empty DataFrame\n",
       "Columns: [Fecha, Nueva_Fecha]\n",
       "Index: []"
      ]
     },
     "execution_count": 185,
     "metadata": {},
     "output_type": "execute_result"
    }
   ],
   "source": [
    "# Miramos los registros que no pudieron convertirse a DateTime. Vemos que todos se convirtieron satisfactoriamente a datetime y no hay ningun NaT\n",
    "data_t.loc[data_t.Nueva_Fecha.isna(), ['Fecha','Nueva_Fecha']] "
   ]
  },
  {
   "cell_type": "code",
   "execution_count": 187,
   "metadata": {},
   "outputs": [
    {
     "data": {
      "text/plain": [
       "ID                     object\n",
       "Label                   int64\n",
       "Titulo                 object\n",
       "Descripcion            object\n",
       "Fecha                  object\n",
       "Nueva_Fecha    datetime64[ns]\n",
       "dtype: object"
      ]
     },
     "execution_count": 187,
     "metadata": {},
     "output_type": "execute_result"
    }
   ],
   "source": [
    "#Revisemos los tipos de datos\n",
    "data_t.dtypes"
   ]
  }
 ],
 "metadata": {
  "kernelspec": {
   "display_name": "base",
   "language": "python",
   "name": "python3"
  },
  "language_info": {
   "codemirror_mode": {
    "name": "ipython",
    "version": 3
   },
   "file_extension": ".py",
   "mimetype": "text/x-python",
   "name": "python",
   "nbconvert_exporter": "python",
   "pygments_lexer": "ipython3",
   "version": "3.9.13"
  }
 },
 "nbformat": 4,
 "nbformat_minor": 2
}
